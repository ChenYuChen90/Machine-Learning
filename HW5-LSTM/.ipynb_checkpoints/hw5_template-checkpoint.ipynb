{
 "cells": [
  {
   "cell_type": "markdown",
   "metadata": {
    "id": "4hiUrTp2g31d"
   },
   "source": [
    "(optional)"
   ]
  },
  {
   "cell_type": "code",
   "execution_count": 182,
   "metadata": {
    "colab": {
     "base_uri": "https://localhost:8080/"
    },
    "executionInfo": {
     "elapsed": 16697,
     "status": "ok",
     "timestamp": 1671540530905,
     "user": {
      "displayName": "李佳芸",
      "userId": "01015243826769900418"
     },
     "user_tz": -480
    },
    "id": "02ixxyXJQRNO",
    "outputId": "442095c6-cc11-4f31-8f94-7d858d95b3eb"
   },
   "outputs": [
    {
     "name": "stdout",
     "output_type": "stream",
     "text": [
      "C:\\Users\\vince\\Desktop\\ML\\HW5\n"
     ]
    }
   ],
   "source": [
    "#from google.colab import drive\n",
    "import os\n",
    "#drive.mount('/content/drive')\n",
    "print(os.getcwd())"
   ]
  },
  {
   "cell_type": "code",
   "execution_count": 183,
   "metadata": {
    "id": "cwb1U7JElJPa"
   },
   "outputs": [],
   "source": [
    "#os.chdir('\\Users\\vince\\Desktop\\ML\\HW5')"
   ]
  },
  {
   "cell_type": "markdown",
   "metadata": {
    "id": "CQX9eCfIcRAn"
   },
   "source": [
    "# **HW5: Brain signal classification**\n",
    "In *HW 5*, you need to finish:\n",
    "\n",
    "1.  Model Implementation Part: Implement LSTM and EEGNet models to predict the label of each samples.\n",
    "\n",
    "2.  Model Competition Part: Implementing a model to reach better accuracy performance."
   ]
  },
  {
   "cell_type": "code",
   "execution_count": 298,
   "metadata": {
    "id": "BKJDTLRvQrnY"
   },
   "outputs": [],
   "source": [
    "import numpy as np\n",
    "import os\n",
    "import math\n",
    "import csv\n",
    "import matplotlib.pyplot as plt\n",
    "# Import the packages you need here\n"
   ]
  },
  {
   "cell_type": "code",
   "execution_count": 299,
   "metadata": {
    "id": "ZQQylnWHQ4yy"
   },
   "outputs": [],
   "source": [
    "data = np.load('data.npz')\n",
    "label = np.load('label.npz')"
   ]
  },
  {
   "cell_type": "code",
   "execution_count": 300,
   "metadata": {
    "id": "3Ype-nIkQ-bf"
   },
   "outputs": [],
   "source": [
    "X_train = data['X_train']\n",
    "X_val = data['X_val']\n",
    "X_test = data['X_test']\n",
    "\n",
    "Y_train = label['Y_train']\n",
    "Y_val = label['Y_val']"
   ]
  },
  {
   "cell_type": "code",
   "execution_count": 301,
   "metadata": {
    "colab": {
     "base_uri": "https://localhost:8080/"
    },
    "executionInfo": {
     "elapsed": 2,
     "status": "ok",
     "timestamp": 1671540588108,
     "user": {
      "displayName": "李佳芸",
      "userId": "01015243826769900418"
     },
     "user_tz": -480
    },
    "id": "xjPvKG_im7mV",
    "outputId": "d2c8a3bc-c69e-42e8-b10f-587d2e9f555f"
   },
   "outputs": [
    {
     "data": {
      "text/plain": [
       "((604, 22, 200), (152, 22, 200), (190, 22, 200))"
      ]
     },
     "execution_count": 301,
     "metadata": {},
     "output_type": "execute_result"
    }
   ],
   "source": [
    "X_train.shape, X_val.shape, X_test.shape"
   ]
  },
  {
   "cell_type": "code",
   "execution_count": 324,
   "metadata": {},
   "outputs": [
    {
     "name": "stdout",
     "output_type": "stream",
     "text": [
      "(604, 200, 22)\n",
      "(152, 200, 22)\n",
      "(190, 200, 22)\n"
     ]
    }
   ],
   "source": [
    "X_train = X_train.reshape(-1, 200, 22)\n",
    "X_val = X_val.reshape(-1, 200, 22)\n",
    "X_test = X_test.reshape(-1, 200, 22)\n",
    "print(X_train.shape)\n",
    "print(X_val.shape)\n",
    "print(X_test.shape)"
   ]
  },
  {
   "cell_type": "code",
   "execution_count": 303,
   "metadata": {
    "colab": {
     "base_uri": "https://localhost:8080/"
    },
    "executionInfo": {
     "elapsed": 349,
     "status": "ok",
     "timestamp": 1671540599191,
     "user": {
      "displayName": "李佳芸",
      "userId": "01015243826769900418"
     },
     "user_tz": -480
    },
    "id": "X7apA2_-lBjF",
    "outputId": "4526f7a4-eb1f-4d57-e40e-4917537cb0d2"
   },
   "outputs": [
    {
     "data": {
      "text/plain": [
       "((604, 1), (152, 1))"
      ]
     },
     "execution_count": 303,
     "metadata": {},
     "output_type": "execute_result"
    }
   ],
   "source": [
    "Y_train.shape, Y_val.shape"
   ]
  },
  {
   "cell_type": "code",
   "execution_count": 304,
   "metadata": {},
   "outputs": [],
   "source": [
    "Y_train = np.eye(6)[Y_train.astype(int)].reshape(604,6)\n",
    "Y_val = np.eye(6)[Y_val.astype(int)].reshape(152,6)"
   ]
  },
  {
   "cell_type": "code",
   "execution_count": 305,
   "metadata": {},
   "outputs": [
    {
     "name": "stdout",
     "output_type": "stream",
     "text": [
      "(604, 6)\n"
     ]
    }
   ],
   "source": [
    "print(Y_train.shape)"
   ]
  },
  {
   "cell_type": "markdown",
   "metadata": {
    "id": "diYYd3e7eopi"
   },
   "source": [
    "## Model Implementation Part"
   ]
  },
  {
   "cell_type": "markdown",
   "metadata": {
    "id": "97BpHWOAevWJ"
   },
   "source": [
    "### LSTM"
   ]
  },
  {
   "cell_type": "code",
   "execution_count": 306,
   "metadata": {},
   "outputs": [],
   "source": [
    "import tensorflow as tf\n",
    "from tensorflow import keras\n",
    "from tensorflow.keras import layers"
   ]
  },
  {
   "cell_type": "code",
   "execution_count": 314,
   "metadata": {
    "id": "xxFGe6YRe7qn"
   },
   "outputs": [
    {
     "name": "stdout",
     "output_type": "stream",
     "text": [
      "Model: \"sequential_75\"\n",
      "_________________________________________________________________\n",
      " Layer (type)                Output Shape              Param #   \n",
      "=================================================================\n",
      " lstm_61 (LSTM)              (None, 200, 100)          49200     \n",
      "                                                                 \n",
      " flatten_20 (Flatten)        (None, 20000)             0         \n",
      "                                                                 \n",
      " dense_57 (Dense)            (None, 6)                 120006    \n",
      "                                                                 \n",
      "=================================================================\n",
      "Total params: 169,206\n",
      "Trainable params: 169,206\n",
      "Non-trainable params: 0\n",
      "_________________________________________________________________\n"
     ]
    }
   ],
   "source": [
    "# Build your model here:\n",
    "model = keras.Sequential()\n",
    "model.add(layers.LSTM(48, input_shape = (200, 22), return_sequences=True))#\n",
    "model.add(layers.Flatten())\n",
    "model.add(layers.Dense(6, activation='softmax'))\n",
    "model.build()\n",
    "model.summary()"
   ]
  },
  {
   "cell_type": "code",
   "execution_count": 308,
   "metadata": {
    "scrolled": true
   },
   "outputs": [
    {
     "name": "stdout",
     "output_type": "stream",
     "text": [
      "Epoch 1/20\n",
      "19/19 [==============================] - 3s 65ms/step - loss: 0.8994 - accuracy: 0.7020 - val_loss: 0.3949 - val_accuracy: 0.9145\n",
      "Epoch 2/20\n",
      "19/19 [==============================] - 1s 52ms/step - loss: 0.0800 - accuracy: 0.9917 - val_loss: 0.2259 - val_accuracy: 0.9145\n",
      "Epoch 3/20\n",
      "19/19 [==============================] - 1s 50ms/step - loss: 0.0251 - accuracy: 1.0000 - val_loss: 0.1717 - val_accuracy: 0.9605\n",
      "Epoch 4/20\n",
      "19/19 [==============================] - 1s 48ms/step - loss: 0.0130 - accuracy: 1.0000 - val_loss: 0.1825 - val_accuracy: 0.9539\n",
      "Epoch 5/20\n",
      "19/19 [==============================] - 1s 46ms/step - loss: 0.0093 - accuracy: 1.0000 - val_loss: 0.1663 - val_accuracy: 0.9671\n",
      "Epoch 6/20\n",
      "19/19 [==============================] - 1s 47ms/step - loss: 0.0072 - accuracy: 1.0000 - val_loss: 0.1610 - val_accuracy: 0.9737\n",
      "Epoch 7/20\n",
      "19/19 [==============================] - 1s 47ms/step - loss: 0.0059 - accuracy: 1.0000 - val_loss: 0.1560 - val_accuracy: 0.9737\n",
      "Epoch 8/20\n",
      "19/19 [==============================] - 1s 46ms/step - loss: 0.0050 - accuracy: 1.0000 - val_loss: 0.1525 - val_accuracy: 0.9737\n",
      "Epoch 9/20\n",
      "19/19 [==============================] - 1s 47ms/step - loss: 0.0043 - accuracy: 1.0000 - val_loss: 0.1494 - val_accuracy: 0.9737\n",
      "Epoch 10/20\n",
      "19/19 [==============================] - 1s 46ms/step - loss: 0.0038 - accuracy: 1.0000 - val_loss: 0.1478 - val_accuracy: 0.9803\n",
      "Epoch 11/20\n",
      "19/19 [==============================] - 1s 47ms/step - loss: 0.0033 - accuracy: 1.0000 - val_loss: 0.1443 - val_accuracy: 0.9737\n",
      "Epoch 12/20\n",
      "19/19 [==============================] - 1s 48ms/step - loss: 0.0029 - accuracy: 1.0000 - val_loss: 0.1427 - val_accuracy: 0.9737\n",
      "Epoch 13/20\n",
      "19/19 [==============================] - 1s 48ms/step - loss: 0.0026 - accuracy: 1.0000 - val_loss: 0.1402 - val_accuracy: 0.9737\n",
      "Epoch 14/20\n",
      "19/19 [==============================] - 1s 47ms/step - loss: 0.0023 - accuracy: 1.0000 - val_loss: 0.1386 - val_accuracy: 0.9737\n",
      "Epoch 15/20\n",
      "19/19 [==============================] - 1s 47ms/step - loss: 0.0021 - accuracy: 1.0000 - val_loss: 0.1364 - val_accuracy: 0.9737\n",
      "Epoch 16/20\n",
      "19/19 [==============================] - 1s 47ms/step - loss: 0.0019 - accuracy: 1.0000 - val_loss: 0.1347 - val_accuracy: 0.9737\n",
      "Epoch 17/20\n",
      "19/19 [==============================] - 1s 47ms/step - loss: 0.0018 - accuracy: 1.0000 - val_loss: 0.1323 - val_accuracy: 0.9737\n",
      "Epoch 18/20\n",
      "19/19 [==============================] - 1s 47ms/step - loss: 0.0016 - accuracy: 1.0000 - val_loss: 0.1313 - val_accuracy: 0.9737\n",
      "Epoch 19/20\n",
      "19/19 [==============================] - 1s 48ms/step - loss: 0.0015 - accuracy: 1.0000 - val_loss: 0.1306 - val_accuracy: 0.9737\n",
      "Epoch 20/20\n",
      "19/19 [==============================] - 1s 47ms/step - loss: 0.0014 - accuracy: 1.0000 - val_loss: 0.1286 - val_accuracy: 0.9737\n"
     ]
    },
    {
     "data": {
      "text/plain": [
       "<keras.callbacks.History at 0x1928e7b6df0>"
      ]
     },
     "execution_count": 308,
     "metadata": {},
     "output_type": "execute_result"
    }
   ],
   "source": [
    "model.compile(optimizer = 'adam', loss = 'categorical_crossentropy', metrics=['accuracy'])#\n",
    "\n",
    "model.fit(X_train, Y_train, epochs = 20, validation_data = (X_val, Y_val))"
   ]
  },
  {
   "cell_type": "code",
   "execution_count": 268,
   "metadata": {
    "scrolled": true
   },
   "outputs": [
    {
     "name": "stdout",
     "output_type": "stream",
     "text": [
      "6/6 [==============================] - 0s 14ms/step\n",
      "[[4.9746865e-01 2.1580906e-01 1.0455604e-01 7.7060619e-03 8.0785519e-03\n",
      "  1.6638169e-01]\n",
      " [2.8054399e-04 1.0311655e-04 9.1072307e-06 9.4611716e-01 5.3067110e-02\n",
      "  4.2303995e-04]\n",
      " [2.4603333e-04 8.2729803e-04 8.9728343e-04 4.8990950e-02 9.4370681e-01\n",
      "  5.3316993e-03]\n",
      " ...\n",
      " [1.7489764e-03 9.7211748e-01 3.9997831e-04 2.9899022e-05 1.5585602e-02\n",
      "  1.0118034e-02]\n",
      " [7.0558548e-01 2.6103944e-01 8.8928174e-03 9.1965422e-03 3.1641135e-03\n",
      "  1.2121631e-02]\n",
      " [6.5373686e-05 9.9517125e-01 1.5798660e-05 8.5158154e-06 4.1370569e-03\n",
      "  6.0199678e-04]]\n"
     ]
    }
   ],
   "source": [
    "pred_test = model.predict(X_test)\n",
    "print(pred_test)"
   ]
  },
  {
   "cell_type": "code",
   "execution_count": 269,
   "metadata": {},
   "outputs": [
    {
     "name": "stdout",
     "output_type": "stream",
     "text": [
      "[[0]\n",
      " [3]\n",
      " [4]\n",
      " [2]\n",
      " [5]\n",
      " [1]\n",
      " [0]\n",
      " [0]\n",
      " [5]\n",
      " [1]\n",
      " [2]\n",
      " [0]\n",
      " [0]\n",
      " [5]\n",
      " [5]\n",
      " [3]\n",
      " [5]\n",
      " [5]\n",
      " [3]\n",
      " [5]\n",
      " [1]\n",
      " [1]\n",
      " [5]\n",
      " [5]\n",
      " [4]\n",
      " [3]\n",
      " [2]\n",
      " [1]\n",
      " [0]\n",
      " [2]\n",
      " [5]\n",
      " [0]\n",
      " [0]\n",
      " [0]\n",
      " [2]\n",
      " [0]\n",
      " [5]\n",
      " [5]\n",
      " [2]\n",
      " [2]\n",
      " [4]\n",
      " [0]\n",
      " [4]\n",
      " [4]\n",
      " [1]\n",
      " [0]\n",
      " [3]\n",
      " [0]\n",
      " [4]\n",
      " [2]\n",
      " [2]\n",
      " [4]\n",
      " [4]\n",
      " [3]\n",
      " [4]\n",
      " [3]\n",
      " [5]\n",
      " [2]\n",
      " [0]\n",
      " [1]\n",
      " [3]\n",
      " [5]\n",
      " [1]\n",
      " [2]\n",
      " [4]\n",
      " [3]\n",
      " [1]\n",
      " [2]\n",
      " [0]\n",
      " [4]\n",
      " [5]\n",
      " [4]\n",
      " [5]\n",
      " [3]\n",
      " [2]\n",
      " [3]\n",
      " [3]\n",
      " [4]\n",
      " [3]\n",
      " [2]\n",
      " [1]\n",
      " [4]\n",
      " [0]\n",
      " [1]\n",
      " [1]\n",
      " [3]\n",
      " [4]\n",
      " [1]\n",
      " [1]\n",
      " [4]\n",
      " [2]\n",
      " [5]\n",
      " [5]\n",
      " [2]\n",
      " [4]\n",
      " [1]\n",
      " [0]\n",
      " [5]\n",
      " [2]\n",
      " [5]\n",
      " [3]\n",
      " [4]\n",
      " [3]\n",
      " [2]\n",
      " [4]\n",
      " [4]\n",
      " [1]\n",
      " [2]\n",
      " [0]\n",
      " [0]\n",
      " [1]\n",
      " [0]\n",
      " [2]\n",
      " [4]\n",
      " [3]\n",
      " [4]\n",
      " [1]\n",
      " [4]\n",
      " [1]\n",
      " [1]\n",
      " [5]\n",
      " [5]\n",
      " [3]\n",
      " [1]\n",
      " [3]\n",
      " [0]\n",
      " [0]\n",
      " [1]\n",
      " [3]\n",
      " [1]\n",
      " [0]\n",
      " [5]\n",
      " [0]\n",
      " [2]\n",
      " [3]\n",
      " [2]\n",
      " [2]\n",
      " [0]\n",
      " [3]\n",
      " [3]\n",
      " [5]\n",
      " [0]\n",
      " [2]\n",
      " [5]\n",
      " [4]\n",
      " [0]\n",
      " [3]\n",
      " [3]\n",
      " [3]\n",
      " [1]\n",
      " [5]\n",
      " [3]\n",
      " [1]\n",
      " [2]\n",
      " [1]\n",
      " [0]\n",
      " [2]\n",
      " [0]\n",
      " [2]\n",
      " [3]\n",
      " [1]\n",
      " [1]\n",
      " [3]\n",
      " [5]\n",
      " [0]\n",
      " [5]\n",
      " [5]\n",
      " [5]\n",
      " [4]\n",
      " [1]\n",
      " [2]\n",
      " [1]\n",
      " [5]\n",
      " [2]\n",
      " [4]\n",
      " [4]\n",
      " [1]\n",
      " [1]\n",
      " [0]\n",
      " [4]\n",
      " [2]\n",
      " [3]\n",
      " [4]\n",
      " [2]\n",
      " [4]\n",
      " [0]\n",
      " [0]\n",
      " [1]\n",
      " [0]\n",
      " [1]]\n"
     ]
    }
   ],
   "source": [
    "pred = np.argmax(pred_test, axis = 1).reshape(-1, 1)#\n",
    "print(pred)"
   ]
  },
  {
   "cell_type": "code",
   "execution_count": 202,
   "metadata": {
    "id": "sIXH_6BHjm6w"
   },
   "outputs": [],
   "source": [
    "output = pred\n",
    "assert(output.shape == (190, 1))\n",
    "np.savetxt('lstm_output.csv', output, delimiter=\",\")"
   ]
  },
  {
   "cell_type": "markdown",
   "metadata": {
    "id": "xSGZPbDHrfOr"
   },
   "source": [
    "### EEGNet"
   ]
  },
  {
   "cell_type": "code",
   "execution_count": 346,
   "metadata": {},
   "outputs": [
    {
     "data": {
      "text/plain": [
       "((604, 200, 22), (152, 200, 22), (190, 200, 22))"
      ]
     },
     "execution_count": 346,
     "metadata": {},
     "output_type": "execute_result"
    }
   ],
   "source": [
    "X_train.shape, X_val.shape, X_test.shape"
   ]
  },
  {
   "cell_type": "code",
   "execution_count": 354,
   "metadata": {},
   "outputs": [],
   "source": [
    "X_train = X_train.reshape(-1, 1, 22, 200)\n",
    "X_val = X_val.reshape(-1, 1, 22, 200)\n",
    "X_test = X_test.reshape(-1, 1, 22, 200)"
   ]
  },
  {
   "cell_type": "code",
   "execution_count": 355,
   "metadata": {},
   "outputs": [
    {
     "data": {
      "text/plain": [
       "((604, 1, 22, 200), (152, 1, 22, 200), (190, 1, 22, 200))"
      ]
     },
     "execution_count": 355,
     "metadata": {},
     "output_type": "execute_result"
    }
   ],
   "source": [
    "X_train.shape, X_val.shape, X_test.shape"
   ]
  },
  {
   "cell_type": "code",
   "execution_count": 356,
   "metadata": {},
   "outputs": [
    {
     "data": {
      "text/plain": [
       "((604, 6), (152, 6))"
      ]
     },
     "execution_count": 356,
     "metadata": {},
     "output_type": "execute_result"
    }
   ],
   "source": [
    "Y_train.shape, Y_val.shape"
   ]
  },
  {
   "cell_type": "code",
   "execution_count": 362,
   "metadata": {
    "id": "OCUyBSH1hvqG"
   },
   "outputs": [
    {
     "name": "stdout",
     "output_type": "stream",
     "text": [
      "Model: \"sequential_110\"\n",
      "_________________________________________________________________\n",
      " Layer (type)                Output Shape              Param #   \n",
      "=================================================================\n",
      " conv2d_52 (Conv2D)          (None, 8, 22, 200)        512       \n",
      "                                                                 \n",
      " batch_normalization_62 (Bat  (None, 8, 22, 200)       800       \n",
      " chNormalization)                                                \n",
      "                                                                 \n",
      " depthwise_conv2d_22 (Depthw  (None, 16, 1, 200)       352       \n",
      " iseConv2D)                                                      \n",
      "                                                                 \n",
      " batch_normalization_63 (Bat  (None, 16, 1, 200)       800       \n",
      " chNormalization)                                                \n",
      "                                                                 \n",
      " activation_23 (Activation)  (None, 16, 1, 200)        0         \n",
      "                                                                 \n",
      " average_pooling2d_22 (Avera  (None, 16, 1, 50)        0         \n",
      " gePooling2D)                                                    \n",
      "                                                                 \n",
      " dropout_18 (Dropout)        (None, 16, 1, 50)         0         \n",
      "                                                                 \n",
      " separable_conv2d_10 (Separa  (None, 10, 1, 50)        416       \n",
      " bleConv2D)                                                      \n",
      "                                                                 \n",
      " batch_normalization_64 (Bat  (None, 10, 1, 50)        200       \n",
      " chNormalization)                                                \n",
      "                                                                 \n",
      " activation_24 (Activation)  (None, 10, 1, 50)         0         \n",
      "                                                                 \n",
      " average_pooling2d_23 (Avera  (None, 10, 1, 6)         0         \n",
      " gePooling2D)                                                    \n",
      "                                                                 \n",
      " dropout_19 (Dropout)        (None, 10, 1, 6)          0         \n",
      "                                                                 \n",
      " flatten_27 (Flatten)        (None, 60)                0         \n",
      "                                                                 \n",
      " dense_60 (Dense)            (None, 6)                 360       \n",
      "                                                                 \n",
      "=================================================================\n",
      "Total params: 3,440\n",
      "Trainable params: 2,540\n",
      "Non-trainable params: 900\n",
      "_________________________________________________________________\n"
     ]
    }
   ],
   "source": [
    "# Build your model here:\n",
    "F1 = 8\n",
    "F2 = 10\n",
    "D = 2\n",
    "C = 22\n",
    "T = 200\n",
    "model = keras.Sequential()\n",
    "model.add(layers.Conv2D(filters = F1, kernel_size = (1, 64), input_shape = (1, C, T), \n",
    "                        data_format = 'channels_first', activation = 'linear', padding = 'same', use_bias = False))\n",
    "model.add(layers.BatchNormalization())\n",
    "model.add(layers.DepthwiseConv2D(kernel_size = (C, 1), data_format = 'channels_first',\n",
    "                        depth_multiplier = D, padding = 'valid', activation = 'linear', use_bias = False))\n",
    "model.add(layers.BatchNormalization())\n",
    "model.add(layers.Activation('elu'))\n",
    "model.add(layers.AveragePooling2D((1, 4), data_format = 'channels_first'))\n",
    "model.add(layers.Dropout(0.25))\n",
    "\n",
    "model.add(layers.SeparableConv2D(filters = F2, kernel_size = (1, 16), use_bias = False,\n",
    "                        data_format = 'channels_first', activation = 'linear', padding = 'same'))\n",
    "model.add(layers.BatchNormalization())\n",
    "model.add(layers.Activation('elu'))\n",
    "model.add(layers.AveragePooling2D((1, 8), data_format = 'channels_first'))\n",
    "model.add(layers.Dropout(0.25))\n",
    "model.add(layers.Flatten())\n",
    "\n",
    "model.add(layers.Dense(6, activation='softmax', use_bias = False))\n",
    "\n",
    "model.build()\n",
    "model.summary()"
   ]
  },
  {
   "cell_type": "code",
   "execution_count": 363,
   "metadata": {},
   "outputs": [
    {
     "name": "stdout",
     "output_type": "stream",
     "text": [
      "Epoch 1/20\n"
     ]
    },
    {
     "ename": "InvalidArgumentError",
     "evalue": "Graph execution error:\n\nDetected at node 'sequential_110/average_pooling2d_22/AvgPool' defined at (most recent call last):\n    File \"C:\\Users\\vince\\anaconda3\\lib\\runpy.py\", line 197, in _run_module_as_main\n      return _run_code(code, main_globals, None,\n    File \"C:\\Users\\vince\\anaconda3\\lib\\runpy.py\", line 87, in _run_code\n      exec(code, run_globals)\n    File \"C:\\Users\\vince\\anaconda3\\lib\\site-packages\\ipykernel_launcher.py\", line 17, in <module>\n      app.launch_new_instance()\n    File \"C:\\Users\\vince\\anaconda3\\lib\\site-packages\\traitlets\\config\\application.py\", line 846, in launch_instance\n      app.start()\n    File \"C:\\Users\\vince\\anaconda3\\lib\\site-packages\\ipykernel\\kernelapp.py\", line 712, in start\n      self.io_loop.start()\n    File \"C:\\Users\\vince\\anaconda3\\lib\\site-packages\\tornado\\platform\\asyncio.py\", line 199, in start\n      self.asyncio_loop.run_forever()\n    File \"C:\\Users\\vince\\anaconda3\\lib\\asyncio\\base_events.py\", line 601, in run_forever\n      self._run_once()\n    File \"C:\\Users\\vince\\anaconda3\\lib\\asyncio\\base_events.py\", line 1905, in _run_once\n      handle._run()\n    File \"C:\\Users\\vince\\anaconda3\\lib\\asyncio\\events.py\", line 80, in _run\n      self._context.run(self._callback, *self._args)\n    File \"C:\\Users\\vince\\anaconda3\\lib\\site-packages\\ipykernel\\kernelbase.py\", line 510, in dispatch_queue\n      await self.process_one()\n    File \"C:\\Users\\vince\\anaconda3\\lib\\site-packages\\ipykernel\\kernelbase.py\", line 499, in process_one\n      await dispatch(*args)\n    File \"C:\\Users\\vince\\anaconda3\\lib\\site-packages\\ipykernel\\kernelbase.py\", line 406, in dispatch_shell\n      await result\n    File \"C:\\Users\\vince\\anaconda3\\lib\\site-packages\\ipykernel\\kernelbase.py\", line 730, in execute_request\n      reply_content = await reply_content\n    File \"C:\\Users\\vince\\anaconda3\\lib\\site-packages\\ipykernel\\ipkernel.py\", line 390, in do_execute\n      res = shell.run_cell(code, store_history=store_history, silent=silent)\n    File \"C:\\Users\\vince\\anaconda3\\lib\\site-packages\\ipykernel\\zmqshell.py\", line 528, in run_cell\n      return super().run_cell(*args, **kwargs)\n    File \"C:\\Users\\vince\\anaconda3\\lib\\site-packages\\IPython\\core\\interactiveshell.py\", line 2914, in run_cell\n      result = self._run_cell(\n    File \"C:\\Users\\vince\\anaconda3\\lib\\site-packages\\IPython\\core\\interactiveshell.py\", line 2960, in _run_cell\n      return runner(coro)\n    File \"C:\\Users\\vince\\anaconda3\\lib\\site-packages\\IPython\\core\\async_helpers.py\", line 78, in _pseudo_sync_runner\n      coro.send(None)\n    File \"C:\\Users\\vince\\anaconda3\\lib\\site-packages\\IPython\\core\\interactiveshell.py\", line 3185, in run_cell_async\n      has_raised = await self.run_ast_nodes(code_ast.body, cell_name,\n    File \"C:\\Users\\vince\\anaconda3\\lib\\site-packages\\IPython\\core\\interactiveshell.py\", line 3377, in run_ast_nodes\n      if (await self.run_code(code, result,  async_=asy)):\n    File \"C:\\Users\\vince\\anaconda3\\lib\\site-packages\\IPython\\core\\interactiveshell.py\", line 3457, in run_code\n      exec(code_obj, self.user_global_ns, self.user_ns)\n    File \"C:\\Users\\vince\\AppData\\Local\\Temp\\ipykernel_16072\\3667667036.py\", line 3, in <module>\n      model.fit(X_train, Y_train, epochs = 20, validation_data = (X_val, Y_val))\n    File \"C:\\Users\\vince\\anaconda3\\lib\\site-packages\\keras\\utils\\traceback_utils.py\", line 65, in error_handler\n      return fn(*args, **kwargs)\n    File \"C:\\Users\\vince\\anaconda3\\lib\\site-packages\\keras\\engine\\training.py\", line 1650, in fit\n      tmp_logs = self.train_function(iterator)\n    File \"C:\\Users\\vince\\anaconda3\\lib\\site-packages\\keras\\engine\\training.py\", line 1249, in train_function\n      return step_function(self, iterator)\n    File \"C:\\Users\\vince\\anaconda3\\lib\\site-packages\\keras\\engine\\training.py\", line 1233, in step_function\n      outputs = model.distribute_strategy.run(run_step, args=(data,))\n    File \"C:\\Users\\vince\\anaconda3\\lib\\site-packages\\keras\\engine\\training.py\", line 1222, in run_step\n      outputs = model.train_step(data)\n    File \"C:\\Users\\vince\\anaconda3\\lib\\site-packages\\keras\\engine\\training.py\", line 1023, in train_step\n      y_pred = self(x, training=True)\n    File \"C:\\Users\\vince\\anaconda3\\lib\\site-packages\\keras\\utils\\traceback_utils.py\", line 65, in error_handler\n      return fn(*args, **kwargs)\n    File \"C:\\Users\\vince\\anaconda3\\lib\\site-packages\\keras\\engine\\training.py\", line 561, in __call__\n      return super().__call__(*args, **kwargs)\n    File \"C:\\Users\\vince\\anaconda3\\lib\\site-packages\\keras\\utils\\traceback_utils.py\", line 65, in error_handler\n      return fn(*args, **kwargs)\n    File \"C:\\Users\\vince\\anaconda3\\lib\\site-packages\\keras\\engine\\base_layer.py\", line 1132, in __call__\n      outputs = call_fn(inputs, *args, **kwargs)\n    File \"C:\\Users\\vince\\anaconda3\\lib\\site-packages\\keras\\utils\\traceback_utils.py\", line 96, in error_handler\n      return fn(*args, **kwargs)\n    File \"C:\\Users\\vince\\anaconda3\\lib\\site-packages\\keras\\engine\\sequential.py\", line 413, in call\n      return super().call(inputs, training=training, mask=mask)\n    File \"C:\\Users\\vince\\anaconda3\\lib\\site-packages\\keras\\engine\\functional.py\", line 511, in call\n      return self._run_internal_graph(inputs, training=training, mask=mask)\n    File \"C:\\Users\\vince\\anaconda3\\lib\\site-packages\\keras\\engine\\functional.py\", line 668, in _run_internal_graph\n      outputs = node.layer(*args, **kwargs)\n    File \"C:\\Users\\vince\\anaconda3\\lib\\site-packages\\keras\\utils\\traceback_utils.py\", line 65, in error_handler\n      return fn(*args, **kwargs)\n    File \"C:\\Users\\vince\\anaconda3\\lib\\site-packages\\keras\\engine\\base_layer.py\", line 1132, in __call__\n      outputs = call_fn(inputs, *args, **kwargs)\n    File \"C:\\Users\\vince\\anaconda3\\lib\\site-packages\\keras\\utils\\traceback_utils.py\", line 96, in error_handler\n      return fn(*args, **kwargs)\n    File \"C:\\Users\\vince\\anaconda3\\lib\\site-packages\\keras\\layers\\pooling\\base_pooling2d.py\", line 84, in call\n      outputs = self.pool_function(\nNode: 'sequential_110/average_pooling2d_22/AvgPool'\nDefault AvgPoolingOp only supports NHWC on device type CPU\n\t [[{{node sequential_110/average_pooling2d_22/AvgPool}}]] [Op:__inference_train_function_314467]",
     "output_type": "error",
     "traceback": [
      "\u001b[1;31m---------------------------------------------------------------------------\u001b[0m",
      "\u001b[1;31mInvalidArgumentError\u001b[0m                      Traceback (most recent call last)",
      "\u001b[1;32m~\\AppData\\Local\\Temp\\ipykernel_16072\\3667667036.py\u001b[0m in \u001b[0;36m<module>\u001b[1;34m\u001b[0m\n\u001b[0;32m      1\u001b[0m \u001b[0mmodel\u001b[0m\u001b[1;33m.\u001b[0m\u001b[0mcompile\u001b[0m\u001b[1;33m(\u001b[0m\u001b[0moptimizer\u001b[0m \u001b[1;33m=\u001b[0m \u001b[1;34m'adam'\u001b[0m\u001b[1;33m,\u001b[0m \u001b[0mloss\u001b[0m \u001b[1;33m=\u001b[0m \u001b[1;34m'categorical_crossentropy'\u001b[0m\u001b[1;33m,\u001b[0m \u001b[0mmetrics\u001b[0m\u001b[1;33m=\u001b[0m\u001b[1;33m[\u001b[0m\u001b[1;34m'accuracy'\u001b[0m\u001b[1;33m]\u001b[0m\u001b[1;33m)\u001b[0m\u001b[1;31m#\u001b[0m\u001b[1;33m\u001b[0m\u001b[1;33m\u001b[0m\u001b[0m\n\u001b[0;32m      2\u001b[0m \u001b[1;33m\u001b[0m\u001b[0m\n\u001b[1;32m----> 3\u001b[1;33m \u001b[0mmodel\u001b[0m\u001b[1;33m.\u001b[0m\u001b[0mfit\u001b[0m\u001b[1;33m(\u001b[0m\u001b[0mX_train\u001b[0m\u001b[1;33m,\u001b[0m \u001b[0mY_train\u001b[0m\u001b[1;33m,\u001b[0m \u001b[0mepochs\u001b[0m \u001b[1;33m=\u001b[0m \u001b[1;36m20\u001b[0m\u001b[1;33m,\u001b[0m \u001b[0mvalidation_data\u001b[0m \u001b[1;33m=\u001b[0m \u001b[1;33m(\u001b[0m\u001b[0mX_val\u001b[0m\u001b[1;33m,\u001b[0m \u001b[0mY_val\u001b[0m\u001b[1;33m)\u001b[0m\u001b[1;33m)\u001b[0m\u001b[1;33m\u001b[0m\u001b[1;33m\u001b[0m\u001b[0m\n\u001b[0m",
      "\u001b[1;32m~\\anaconda3\\lib\\site-packages\\keras\\utils\\traceback_utils.py\u001b[0m in \u001b[0;36merror_handler\u001b[1;34m(*args, **kwargs)\u001b[0m\n\u001b[0;32m     68\u001b[0m             \u001b[1;31m# To get the full stack trace, call:\u001b[0m\u001b[1;33m\u001b[0m\u001b[1;33m\u001b[0m\u001b[0m\n\u001b[0;32m     69\u001b[0m             \u001b[1;31m# `tf.debugging.disable_traceback_filtering()`\u001b[0m\u001b[1;33m\u001b[0m\u001b[1;33m\u001b[0m\u001b[0m\n\u001b[1;32m---> 70\u001b[1;33m             \u001b[1;32mraise\u001b[0m \u001b[0me\u001b[0m\u001b[1;33m.\u001b[0m\u001b[0mwith_traceback\u001b[0m\u001b[1;33m(\u001b[0m\u001b[0mfiltered_tb\u001b[0m\u001b[1;33m)\u001b[0m \u001b[1;32mfrom\u001b[0m \u001b[1;32mNone\u001b[0m\u001b[1;33m\u001b[0m\u001b[1;33m\u001b[0m\u001b[0m\n\u001b[0m\u001b[0;32m     71\u001b[0m         \u001b[1;32mfinally\u001b[0m\u001b[1;33m:\u001b[0m\u001b[1;33m\u001b[0m\u001b[1;33m\u001b[0m\u001b[0m\n\u001b[0;32m     72\u001b[0m             \u001b[1;32mdel\u001b[0m \u001b[0mfiltered_tb\u001b[0m\u001b[1;33m\u001b[0m\u001b[1;33m\u001b[0m\u001b[0m\n",
      "\u001b[1;32m~\\anaconda3\\lib\\site-packages\\tensorflow\\python\\eager\\execute.py\u001b[0m in \u001b[0;36mquick_execute\u001b[1;34m(op_name, num_outputs, inputs, attrs, ctx, name)\u001b[0m\n\u001b[0;32m     50\u001b[0m   \u001b[1;32mtry\u001b[0m\u001b[1;33m:\u001b[0m\u001b[1;33m\u001b[0m\u001b[1;33m\u001b[0m\u001b[0m\n\u001b[0;32m     51\u001b[0m     \u001b[0mctx\u001b[0m\u001b[1;33m.\u001b[0m\u001b[0mensure_initialized\u001b[0m\u001b[1;33m(\u001b[0m\u001b[1;33m)\u001b[0m\u001b[1;33m\u001b[0m\u001b[1;33m\u001b[0m\u001b[0m\n\u001b[1;32m---> 52\u001b[1;33m     tensors = pywrap_tfe.TFE_Py_Execute(ctx._handle, device_name, op_name,\n\u001b[0m\u001b[0;32m     53\u001b[0m                                         inputs, attrs, num_outputs)\n\u001b[0;32m     54\u001b[0m   \u001b[1;32mexcept\u001b[0m \u001b[0mcore\u001b[0m\u001b[1;33m.\u001b[0m\u001b[0m_NotOkStatusException\u001b[0m \u001b[1;32mas\u001b[0m \u001b[0me\u001b[0m\u001b[1;33m:\u001b[0m\u001b[1;33m\u001b[0m\u001b[1;33m\u001b[0m\u001b[0m\n",
      "\u001b[1;31mInvalidArgumentError\u001b[0m: Graph execution error:\n\nDetected at node 'sequential_110/average_pooling2d_22/AvgPool' defined at (most recent call last):\n    File \"C:\\Users\\vince\\anaconda3\\lib\\runpy.py\", line 197, in _run_module_as_main\n      return _run_code(code, main_globals, None,\n    File \"C:\\Users\\vince\\anaconda3\\lib\\runpy.py\", line 87, in _run_code\n      exec(code, run_globals)\n    File \"C:\\Users\\vince\\anaconda3\\lib\\site-packages\\ipykernel_launcher.py\", line 17, in <module>\n      app.launch_new_instance()\n    File \"C:\\Users\\vince\\anaconda3\\lib\\site-packages\\traitlets\\config\\application.py\", line 846, in launch_instance\n      app.start()\n    File \"C:\\Users\\vince\\anaconda3\\lib\\site-packages\\ipykernel\\kernelapp.py\", line 712, in start\n      self.io_loop.start()\n    File \"C:\\Users\\vince\\anaconda3\\lib\\site-packages\\tornado\\platform\\asyncio.py\", line 199, in start\n      self.asyncio_loop.run_forever()\n    File \"C:\\Users\\vince\\anaconda3\\lib\\asyncio\\base_events.py\", line 601, in run_forever\n      self._run_once()\n    File \"C:\\Users\\vince\\anaconda3\\lib\\asyncio\\base_events.py\", line 1905, in _run_once\n      handle._run()\n    File \"C:\\Users\\vince\\anaconda3\\lib\\asyncio\\events.py\", line 80, in _run\n      self._context.run(self._callback, *self._args)\n    File \"C:\\Users\\vince\\anaconda3\\lib\\site-packages\\ipykernel\\kernelbase.py\", line 510, in dispatch_queue\n      await self.process_one()\n    File \"C:\\Users\\vince\\anaconda3\\lib\\site-packages\\ipykernel\\kernelbase.py\", line 499, in process_one\n      await dispatch(*args)\n    File \"C:\\Users\\vince\\anaconda3\\lib\\site-packages\\ipykernel\\kernelbase.py\", line 406, in dispatch_shell\n      await result\n    File \"C:\\Users\\vince\\anaconda3\\lib\\site-packages\\ipykernel\\kernelbase.py\", line 730, in execute_request\n      reply_content = await reply_content\n    File \"C:\\Users\\vince\\anaconda3\\lib\\site-packages\\ipykernel\\ipkernel.py\", line 390, in do_execute\n      res = shell.run_cell(code, store_history=store_history, silent=silent)\n    File \"C:\\Users\\vince\\anaconda3\\lib\\site-packages\\ipykernel\\zmqshell.py\", line 528, in run_cell\n      return super().run_cell(*args, **kwargs)\n    File \"C:\\Users\\vince\\anaconda3\\lib\\site-packages\\IPython\\core\\interactiveshell.py\", line 2914, in run_cell\n      result = self._run_cell(\n    File \"C:\\Users\\vince\\anaconda3\\lib\\site-packages\\IPython\\core\\interactiveshell.py\", line 2960, in _run_cell\n      return runner(coro)\n    File \"C:\\Users\\vince\\anaconda3\\lib\\site-packages\\IPython\\core\\async_helpers.py\", line 78, in _pseudo_sync_runner\n      coro.send(None)\n    File \"C:\\Users\\vince\\anaconda3\\lib\\site-packages\\IPython\\core\\interactiveshell.py\", line 3185, in run_cell_async\n      has_raised = await self.run_ast_nodes(code_ast.body, cell_name,\n    File \"C:\\Users\\vince\\anaconda3\\lib\\site-packages\\IPython\\core\\interactiveshell.py\", line 3377, in run_ast_nodes\n      if (await self.run_code(code, result,  async_=asy)):\n    File \"C:\\Users\\vince\\anaconda3\\lib\\site-packages\\IPython\\core\\interactiveshell.py\", line 3457, in run_code\n      exec(code_obj, self.user_global_ns, self.user_ns)\n    File \"C:\\Users\\vince\\AppData\\Local\\Temp\\ipykernel_16072\\3667667036.py\", line 3, in <module>\n      model.fit(X_train, Y_train, epochs = 20, validation_data = (X_val, Y_val))\n    File \"C:\\Users\\vince\\anaconda3\\lib\\site-packages\\keras\\utils\\traceback_utils.py\", line 65, in error_handler\n      return fn(*args, **kwargs)\n    File \"C:\\Users\\vince\\anaconda3\\lib\\site-packages\\keras\\engine\\training.py\", line 1650, in fit\n      tmp_logs = self.train_function(iterator)\n    File \"C:\\Users\\vince\\anaconda3\\lib\\site-packages\\keras\\engine\\training.py\", line 1249, in train_function\n      return step_function(self, iterator)\n    File \"C:\\Users\\vince\\anaconda3\\lib\\site-packages\\keras\\engine\\training.py\", line 1233, in step_function\n      outputs = model.distribute_strategy.run(run_step, args=(data,))\n    File \"C:\\Users\\vince\\anaconda3\\lib\\site-packages\\keras\\engine\\training.py\", line 1222, in run_step\n      outputs = model.train_step(data)\n    File \"C:\\Users\\vince\\anaconda3\\lib\\site-packages\\keras\\engine\\training.py\", line 1023, in train_step\n      y_pred = self(x, training=True)\n    File \"C:\\Users\\vince\\anaconda3\\lib\\site-packages\\keras\\utils\\traceback_utils.py\", line 65, in error_handler\n      return fn(*args, **kwargs)\n    File \"C:\\Users\\vince\\anaconda3\\lib\\site-packages\\keras\\engine\\training.py\", line 561, in __call__\n      return super().__call__(*args, **kwargs)\n    File \"C:\\Users\\vince\\anaconda3\\lib\\site-packages\\keras\\utils\\traceback_utils.py\", line 65, in error_handler\n      return fn(*args, **kwargs)\n    File \"C:\\Users\\vince\\anaconda3\\lib\\site-packages\\keras\\engine\\base_layer.py\", line 1132, in __call__\n      outputs = call_fn(inputs, *args, **kwargs)\n    File \"C:\\Users\\vince\\anaconda3\\lib\\site-packages\\keras\\utils\\traceback_utils.py\", line 96, in error_handler\n      return fn(*args, **kwargs)\n    File \"C:\\Users\\vince\\anaconda3\\lib\\site-packages\\keras\\engine\\sequential.py\", line 413, in call\n      return super().call(inputs, training=training, mask=mask)\n    File \"C:\\Users\\vince\\anaconda3\\lib\\site-packages\\keras\\engine\\functional.py\", line 511, in call\n      return self._run_internal_graph(inputs, training=training, mask=mask)\n    File \"C:\\Users\\vince\\anaconda3\\lib\\site-packages\\keras\\engine\\functional.py\", line 668, in _run_internal_graph\n      outputs = node.layer(*args, **kwargs)\n    File \"C:\\Users\\vince\\anaconda3\\lib\\site-packages\\keras\\utils\\traceback_utils.py\", line 65, in error_handler\n      return fn(*args, **kwargs)\n    File \"C:\\Users\\vince\\anaconda3\\lib\\site-packages\\keras\\engine\\base_layer.py\", line 1132, in __call__\n      outputs = call_fn(inputs, *args, **kwargs)\n    File \"C:\\Users\\vince\\anaconda3\\lib\\site-packages\\keras\\utils\\traceback_utils.py\", line 96, in error_handler\n      return fn(*args, **kwargs)\n    File \"C:\\Users\\vince\\anaconda3\\lib\\site-packages\\keras\\layers\\pooling\\base_pooling2d.py\", line 84, in call\n      outputs = self.pool_function(\nNode: 'sequential_110/average_pooling2d_22/AvgPool'\nDefault AvgPoolingOp only supports NHWC on device type CPU\n\t [[{{node sequential_110/average_pooling2d_22/AvgPool}}]] [Op:__inference_train_function_314467]"
     ]
    }
   ],
   "source": [
    "model.compile(optimizer = 'adam', loss = 'categorical_crossentropy', metrics=['accuracy'])#\n",
    "\n",
    "model.fit(X_train, Y_train, epochs = 20, validation_data = (X_val, Y_val))"
   ]
  },
  {
   "cell_type": "code",
   "execution_count": null,
   "metadata": {
    "id": "Ge8jZUU8gve3"
   },
   "outputs": [],
   "source": [
    "output = \"...\"\n",
    "assert(output.shape == (190, 1))\n",
    "np.savetxt('eegnet_output.csv', output, delimiter=\",\")"
   ]
  },
  {
   "cell_type": "markdown",
   "metadata": {
    "id": "qnHnQ_yVerBo"
   },
   "source": [
    "## Model Competition Part"
   ]
  },
  {
   "cell_type": "code",
   "execution_count": null,
   "metadata": {
    "id": "zlhO90b9iB_-"
   },
   "outputs": [],
   "source": [
    "# Build your model here:\n"
   ]
  },
  {
   "cell_type": "code",
   "execution_count": null,
   "metadata": {
    "id": "m097nvkXiIqY"
   },
   "outputs": [],
   "source": [
    "output = \"...\"\n",
    "assert(output.shape == (190, 1))\n",
    "np.savetxt('competition_output.csv', output, delimiter=\",\")"
   ]
  }
 ],
 "metadata": {
  "accelerator": "GPU",
  "colab": {
   "authorship_tag": "ABX9TyNqY25BLSFOOZutxtMZVIdv",
   "provenance": []
  },
  "gpuClass": "standard",
  "kernelspec": {
   "display_name": "Python 3 (ipykernel)",
   "language": "python",
   "name": "python3"
  },
  "language_info": {
   "codemirror_mode": {
    "name": "ipython",
    "version": 3
   },
   "file_extension": ".py",
   "mimetype": "text/x-python",
   "name": "python",
   "nbconvert_exporter": "python",
   "pygments_lexer": "ipython3",
   "version": "3.9.13"
  }
 },
 "nbformat": 4,
 "nbformat_minor": 1
}
